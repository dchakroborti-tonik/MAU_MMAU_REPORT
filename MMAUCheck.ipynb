{
 "cells": [
  {
   "cell_type": "code",
   "execution_count": 1,
   "metadata": {},
   "outputs": [],
   "source": [
    "# %% [markdown]\n",
    "# # Jupyter Notebook Loading Header\n",
    "#\n",
    "# This is a custom loading header for Jupyter Notebooks in Visual Studio Code.\n",
    "# It includes common imports and settings to get you started quickly.\n",
    "\n",
    "# %% [markdown]\n",
    "## Import Libraries\n",
    "import pandas as pd\n",
    "import numpy as np\n",
    "import matplotlib.pyplot as plt\n",
    "import seaborn as sns\n",
    "from google.cloud import bigquery\n",
    "import os\n",
    "path = r'C:\\Users\\DwaipayanChakroborti\\AppData\\Roaming\\gcloud\\legacy_credentials\\dchakroborti@tonikbank.com\\adc.json'\n",
    "os.environ['GOOGLE_APPLICATION_CREDENTIALS'] = path\n",
    "client = bigquery.Client(project='prj-prod-dataplatform')\n",
    "\n",
    "# %% [markdown]\n",
    "## Configure Settings\n",
    "# Set options or configurations as needed\n",
    "pd.set_option(\"Display.max_columns\", None)\n",
    "# Example: pd.set_option('display.max_columns', None)"
   ]
  },
  {
   "cell_type": "code",
   "execution_count": 2,
   "metadata": {},
   "outputs": [
    {
     "name": "stdout",
     "output_type": "stream",
     "text": [
      "[datetime.date(2024, 8, 26), datetime.date(2024, 9, 2)]\n"
     ]
    }
   ],
   "source": [
    "import datetime\n",
    "from dateutil.relativedelta import relativedelta\n",
    "\n",
    "def get_week_start_dates(start_date, end_date):\n",
    "    week_start_dates = []\n",
    "    current_date = start_date\n",
    "    while current_date <= end_date:\n",
    "        week_start_date = current_date - datetime.timedelta(days=current_date.weekday())\n",
    "        week_start_dates.append(week_start_date)\n",
    "        current_date += relativedelta(weeks=1)\n",
    "    return week_start_dates\n",
    "\n",
    "start_date = datetime.date(2024, 8, 26)\n",
    "end_date = datetime.date(2024, 9, 8)\n",
    "\n",
    "week_start_dates = get_week_start_dates(start_date, end_date)\n",
    "print(week_start_dates)"
   ]
  },
  {
   "cell_type": "code",
   "execution_count": 8,
   "metadata": {},
   "outputs": [
    {
     "name": "stdout",
     "output_type": "stream",
     "text": [
      "CPU times: total: 938 ms\n",
      "Wall time: 20.2 s\n"
     ]
    }
   ],
   "source": [
    "%%time\n",
    "res =  pd.DataFrame()\n",
    "for date in week_start_dates:\n",
    "    query = f\"\"\"with \n",
    "    all_cust   --- To get the total registered customer till the cut off date\n",
    "    AS( \n",
    "        SELECT count(distinct cust_id) Total_registered_users\n",
    "        from prj-prod-dataplatform.dl_customers_db_raw.tdbk_customer_mtb\n",
    "        where created_dt <= \"{date}\" and cust_id is not null \n",
    "        ) ,\n",
    "    open_TSA_cust --- TSA customer which was opened before the cut off date and closed date is either null or greater than cutoff date\n",
    "    AS(\n",
    "        SELECT count (distinct OFCUSTOMERID) Total_open_TSA_customers from `core_raw.customer_accounts` \n",
    "            where CRINTERDESC like 'Transactional Savings Account Inv_R'\n",
    "            and OFCUSTOMERID in (select distinct cust_id \n",
    "            from prj-prod-dataplatform.dl_customers_db_raw.tdbk_customer_mtb where cust_id is not null)\n",
    "            AND OFDATEOPENED <= \"{date}\"\n",
    "            AND (OFDATECLOSED = DATE('1970-01-01') OR  OFDATECLOSED > \"{date}\")\n",
    "            )           \n",
    "            ,\n",
    "    loan_cust --list of customers having loan either in status Normal or Arrears at the cut off date\n",
    "    AS (\n",
    "        SELECT \n",
    "            distinct CAST(lmt.customerId AS STRING) customerId\n",
    "        FROM \n",
    "            `prj-prod-dataplatform.risk_credit_mis.loan_master_table` lmt\n",
    "            inner join prj-prod-dataplatform.risk_credit_mis.loan_bucket_flow_report_core lbfrc on lbfrc.loanAccountNumber = lmt.loanAccountNumber\n",
    "        WHERE lbfrc.bucketDate = date_sub(date(\"{date}\"), interval 1 day)  --- need to change the date\n",
    "        and lbfrc.loanStatus IN ('Normal', 'In Arrears')\n",
    "            )           \n",
    "            ,\n",
    "    ACL_Customer ---- ACL customer are TSBL loans with sub product type FP and disbursement date <= cutoff date\n",
    "        as \n",
    "            (select lmt.customerId FROM `prj-prod-dataplatform.dl_loans_db_raw.tdbk_digital_loan_application` a\n",
    "                inner join `risk_credit_mis.loan_master_table` lmt on lmt.digitalLoanAccountId = a.digitalLoanAccountId\n",
    "                where coalesce(a.loanType, 'NA') = 'TSBL'and coalesce(a.loan_sub_product_type, 'NA') = 'FP'\n",
    "                and date_trunc(a.loanDigitalAppliedDateAndTime, day) <= \"{date}\"\n",
    "                and date_trunc(lmt.disbursementDateTime, day) <= \"{date}\" --- need to change the date\n",
    "                ),\n",
    "    non_ACL_cust --list of all customers who have no ACL loans (loatype TSBL and sub-product type FP)\n",
    "    AS (\n",
    "        SELECT \n",
    "            distinct CAST(cust_id AS STRING) customerId\n",
    "        FROM \n",
    "            `prj-prod-dataplatform.dl_customers_db_raw.tdbk_customer_mtb`\n",
    "        WHERE \n",
    "            cast(cust_id as string) not in (select customerId from loan_cust)\n",
    "            and created_dt <= \"{date}\" and cust_id is not null \n",
    "    )\n",
    "    /*So, new definition of MAU is. Customer with open TSA and at least one any transaction for the amount greater than 100 PHP in the last 30 days. \n",
    "    No active loan. OR has balance of the TSA + any Stash greater than 100 PHP. Whoch means if he didnt transact but he has money on TSA - he is MAU. \n",
    "    If he doesnt transact and doesnt have money on TSA but has more than 100 PHP on Stash - he is active */\n",
    "    ,        \n",
    "    MAU_with_trx \n",
    "    AS (\n",
    "        SELECT DISTINCT customer_id \n",
    "        FROM `prj-prod-dataplatform.risk_mart.customer_transactions`\n",
    "        WHERE transaction_date BETWEEN DATE_SUB(date(\"{date}\"), INTERVAL 30 DAY) AND date(\"{date}\")\n",
    "        AND ABS(trx_amount) > 100  --- transaction greater than 100\n",
    "        AND account_type = \"Tonik Account\"  -- TSA account type\n",
    "        AND customer_id NOT IN (SELECT customerId FROM loan_cust)  --- no active loan\n",
    "        )\n",
    "        ,\n",
    "    MAU_with_bal \n",
    "     AS (\n",
    "        SELECT \n",
    "            DISTINCT client_id \n",
    "        FROM \n",
    "            `prj-prod-dataplatform.risk_mart.customer_balance`\n",
    "        WHERE\n",
    "            clearedbalance > 100  --- balance in any account greater than 100\n",
    "            AND account_type IN (\"Tonik Account\",\"Group Stash\",\"Individual Stash\")  ---- TSA, Group Stash and Individual Stash\n",
    "            AND balanceDateAsOf between date_sub(date(\"{date}\"), interval 30 day) and date(\"{date}\") ---- in last 30 days\n",
    "            AND client_id NOT IN (SELECT customerId FROM loan_cust) \n",
    "        )            ,\n",
    "    MAU --- \n",
    "        AS (\n",
    "        SELECT COUNT(distinct customer_id) AS MAU \n",
    "        FROM \n",
    "            (SELECT customer_id \n",
    "            FROM \n",
    "                MAU_with_trx\n",
    "            UNION DISTINCT\n",
    "            SELECT \n",
    "                client_id AS customer_id\n",
    "            FROM \n",
    "                MAU_with_bal)),\n",
    "    /* a) MMAU should be without active SIL, Quck and Flex loan. but when they will have ACL TSA loan - those should be included into MMAUs. \n",
    "    b)  I would like to ask you to add  \n",
    "    1) the active TSA ACL loans issued (today its zero) after the MMAU.  \n",
    "    2) Difference between MMAU with TSA aCL loan and TSA ACL LOans that will show us the current pool of eligible customers. \n",
    "    3) Offers extended. They should live somewhere on the datalake table. \n",
    "    For example this week we will issue 1000 offers. Next week we will issue 10 000 more. So netx week it will be 11 k offers sent.   \n",
    "    And last one 4) Uptake. TSA ACL Loans active divided into Offers sent. as %.   */\n",
    "    MMAU_customerbase as (select cast(customerId as string)customerId from non_ACL_cust union all (select cast(customerId as string)customerId from ACL_Customer)) , \n",
    "    transactional_cust --Mareks criteria\n",
    "    AS (\n",
    "        SELECT \n",
    "            DISTINCT customer_id\n",
    "        FROM \n",
    "            `prj-prod-dataplatform.risk_mart.customer_transactions`\n",
    "        WHERE\n",
    "            transaction_date BETWEEN DATE_SUB(date(\"{date}\"), INTERVAL 3 MONTH) AND date(\"{date}\")\n",
    "            AND customer_id in (SELECT customerId FROM MMAU_customerbase)\n",
    "        GROUP BY\n",
    "            customer_id\n",
    "        HAVING \n",
    "            COUNT(*) >= 5\n",
    "    ),\n",
    "    cust_with_balance --Mareks criteria\n",
    "    AS (\n",
    "        SELECT \n",
    "            DISTINCT client_id AS customer_id \n",
    "        FROM \n",
    "            `prj-prod-dataplatform.risk_mart.customer_balance`\n",
    "        WHERE\n",
    "            clearedbalance > 1000\n",
    "            AND account_type IN (\"Tonik Account\",\"Group Stash\",\"Individual Stash\")\n",
    "            AND balanceDateAsOf between date_sub(date(\"{date}\"), interval 30 day) and date(\"{date}\")\n",
    "            AND client_id in (SELECT customerId FROM MMAU_customerbase)\n",
    "            ),\n",
    "      MMAU\n",
    "    AS (\n",
    "        SELECT \n",
    "         BalanceDate,  MMAUCustomer, querycategory \n",
    "        FROM \n",
    "            ( SELECT \n",
    "            '{date}' BalanceDate, customer_id MMAUCustomer, 'Transaction' querycategory \n",
    "            FROM \n",
    "            transactional_cust\n",
    "        UNION distinct\n",
    "        SELECT \n",
    "           '{date}' BalanceDate, customer_id MMAUCustomer, 'Balance' querycategory \n",
    "        FROM \n",
    "            cust_with_balance)\n",
    "        )\n",
    "    select * from MMAU;\n",
    "    \n",
    "    \"\"\"\n",
    "    df = client.query(query).to_dataframe()\n",
    "    res = pd.concat([res,df])\n"
   ]
  },
  {
   "cell_type": "code",
   "execution_count": 9,
   "metadata": {},
   "outputs": [
    {
     "data": {
      "text/plain": [
       "BalanceDate  querycategory\n",
       "2024-08-26   Balance          44947\n",
       "             Transaction      35333\n",
       "2024-09-02   Balance          44731\n",
       "             Transaction      50555\n",
       "Name: MMAUCustomer, dtype: int64"
      ]
     },
     "execution_count": 9,
     "metadata": {},
     "output_type": "execute_result"
    }
   ],
   "source": [
    "res.groupby(['BalanceDate', 'querycategory'])['MMAUCustomer'].nunique()"
   ]
  },
  {
   "cell_type": "code",
   "execution_count": 12,
   "metadata": {},
   "outputs": [
    {
     "data": {
      "text/plain": [
       "('1303533', '1181737', '2394592', '1685623', '1174883')"
      ]
     },
     "execution_count": 12,
     "metadata": {},
     "output_type": "execute_result"
    }
   ],
   "source": [
    "a = tuple(res['MMAUCustomer'][(res['BalanceDate']=='2024-09-02')&(res['querycategory'] == 'Transaction')])\n",
    "a[0:5]"
   ]
  },
  {
   "cell_type": "code",
   "execution_count": 26,
   "metadata": {},
   "outputs": [
    {
     "name": "stdout",
     "output_type": "stream",
     "text": [
      "Job ID 763c54b2-fba3-46fc-8692-736481ad5565 successfully executed: 100%|\u001b[32m██████████\u001b[0m|\n",
      "Downloading: 100%|\u001b[32m██████████\u001b[0m|\n"
     ]
    }
   ],
   "source": [
    "sq = f\"\"\"select * from  `prj-prod-dataplatform.risk_mart.customer_balance`\n",
    "where clearedbalance > 1000\n",
    "            AND account_type IN (\"Tonik Account\",\"Group Stash\",\"Individual Stash\")\n",
    "            AND balanceDateAsOf between date_sub(date(\"2024-09-02\"), interval 30 day) and date(\"2024-09-02\")\n",
    "            AND client_id in {a};\"\"\"\n",
    "dfd = client.query(sq).to_dataframe(progress_bar_type='tqdm')"
   ]
  },
  {
   "cell_type": "code",
   "execution_count": 17,
   "metadata": {},
   "outputs": [
    {
     "data": {
      "text/html": [
       "<div>\n",
       "<style scoped>\n",
       "    .dataframe tbody tr th:only-of-type {\n",
       "        vertical-align: middle;\n",
       "    }\n",
       "\n",
       "    .dataframe tbody tr th {\n",
       "        vertical-align: top;\n",
       "    }\n",
       "\n",
       "    .dataframe thead th {\n",
       "        text-align: right;\n",
       "    }\n",
       "</style>\n",
       "<table border=\"1\" class=\"dataframe\">\n",
       "  <thead>\n",
       "    <tr style=\"text-align: right;\">\n",
       "      <th></th>\n",
       "      <th>accountid</th>\n",
       "      <th>account_type</th>\n",
       "      <th>client_id</th>\n",
       "      <th>balanceDateAsOf</th>\n",
       "      <th>clearedbalance</th>\n",
       "    </tr>\n",
       "  </thead>\n",
       "  <tbody>\n",
       "    <tr>\n",
       "      <th>0</th>\n",
       "      <td>60828076180044</td>\n",
       "      <td>Group Stash</td>\n",
       "      <td>2807618</td>\n",
       "      <td>2024-08-31</td>\n",
       "      <td>5000.00</td>\n",
       "    </tr>\n",
       "    <tr>\n",
       "      <th>1</th>\n",
       "      <td>60828075020001</td>\n",
       "      <td>Tonik Account</td>\n",
       "      <td>2807502</td>\n",
       "      <td>2024-08-31</td>\n",
       "      <td>1000.02</td>\n",
       "    </tr>\n",
       "    <tr>\n",
       "      <th>2</th>\n",
       "      <td>60828088150009</td>\n",
       "      <td>Tonik Account</td>\n",
       "      <td>2808815</td>\n",
       "      <td>2024-08-31</td>\n",
       "      <td>36952.74</td>\n",
       "    </tr>\n",
       "    <tr>\n",
       "      <th>3</th>\n",
       "      <td>60828075020019</td>\n",
       "      <td>Individual Stash</td>\n",
       "      <td>2807502</td>\n",
       "      <td>2024-08-31</td>\n",
       "      <td>1500.13</td>\n",
       "    </tr>\n",
       "    <tr>\n",
       "      <th>4</th>\n",
       "      <td>60827549570005</td>\n",
       "      <td>Tonik Account</td>\n",
       "      <td>2754957</td>\n",
       "      <td>2024-08-15</td>\n",
       "      <td>8000.00</td>\n",
       "    </tr>\n",
       "  </tbody>\n",
       "</table>\n",
       "</div>"
      ],
      "text/plain": [
       "        accountid      account_type client_id balanceDateAsOf  clearedbalance\n",
       "0  60828076180044       Group Stash   2807618      2024-08-31         5000.00\n",
       "1  60828075020001     Tonik Account   2807502      2024-08-31         1000.02\n",
       "2  60828088150009     Tonik Account   2808815      2024-08-31        36952.74\n",
       "3  60828075020019  Individual Stash   2807502      2024-08-31         1500.13\n",
       "4  60827549570005     Tonik Account   2754957      2024-08-15         8000.00"
      ]
     },
     "execution_count": 17,
     "metadata": {},
     "output_type": "execute_result"
    }
   ],
   "source": [
    "dfd.head()"
   ]
  },
  {
   "cell_type": "code",
   "execution_count": 29,
   "metadata": {},
   "outputs": [
    {
     "name": "stdout",
     "output_type": "stream",
     "text": [
      "Job ID 10326622-abe3-40b8-87b3-8e17aef786bf successfully executed: 100%|\u001b[32m██████████\u001b[0m|\n",
      "Downloading: 100%|\u001b[32m██████████\u001b[0m|\n"
     ]
    }
   ],
   "source": [
    "sq = f\"\"\"select * from  `prj-prod-dataplatform.risk_mart.customer_balance`\n",
    "where clearedbalance > 1000\n",
    "            AND account_type IN (\"Tonik Account\",\"Group Stash\",\"Individual Stash\")\n",
    "            AND balanceDateAsOf between date_sub(date(\"2024-08-26\"), interval 30 day) and date(\"2024-08-26\")\n",
    "            AND client_id in {a};\"\"\"\n",
    "dfd1 = client.query(sq).to_dataframe(progress_bar_type='tqdm')"
   ]
  },
  {
   "cell_type": "code",
   "execution_count": 30,
   "metadata": {},
   "outputs": [
    {
     "data": {
      "text/html": [
       "<div>\n",
       "<style scoped>\n",
       "    .dataframe tbody tr th:only-of-type {\n",
       "        vertical-align: middle;\n",
       "    }\n",
       "\n",
       "    .dataframe tbody tr th {\n",
       "        vertical-align: top;\n",
       "    }\n",
       "\n",
       "    .dataframe thead th {\n",
       "        text-align: right;\n",
       "    }\n",
       "</style>\n",
       "<table border=\"1\" class=\"dataframe\">\n",
       "  <thead>\n",
       "    <tr style=\"text-align: right;\">\n",
       "      <th></th>\n",
       "      <th>accountid</th>\n",
       "      <th>account_type</th>\n",
       "      <th>client_id</th>\n",
       "      <th>balanceDateAsOf</th>\n",
       "      <th>clearedbalance</th>\n",
       "    </tr>\n",
       "  </thead>\n",
       "  <tbody>\n",
       "    <tr>\n",
       "      <th>0</th>\n",
       "      <td>60827853210004</td>\n",
       "      <td>Tonik Account</td>\n",
       "      <td>2785321</td>\n",
       "      <td>2024-08-23</td>\n",
       "      <td>5000.0</td>\n",
       "    </tr>\n",
       "    <tr>\n",
       "      <th>1</th>\n",
       "      <td>60827151740014</td>\n",
       "      <td>Group Stash</td>\n",
       "      <td>2715174</td>\n",
       "      <td>2024-08-03</td>\n",
       "      <td>1355.0</td>\n",
       "    </tr>\n",
       "    <tr>\n",
       "      <th>2</th>\n",
       "      <td>60827107270007</td>\n",
       "      <td>Tonik Account</td>\n",
       "      <td>2710727</td>\n",
       "      <td>2024-08-03</td>\n",
       "      <td>2000.0</td>\n",
       "    </tr>\n",
       "    <tr>\n",
       "      <th>3</th>\n",
       "      <td>60827089850001</td>\n",
       "      <td>Tonik Account</td>\n",
       "      <td>2708985</td>\n",
       "      <td>2024-08-03</td>\n",
       "      <td>4000.0</td>\n",
       "    </tr>\n",
       "    <tr>\n",
       "      <th>4</th>\n",
       "      <td>60827188080009</td>\n",
       "      <td>Tonik Account</td>\n",
       "      <td>2718808</td>\n",
       "      <td>2024-08-03</td>\n",
       "      <td>3500.0</td>\n",
       "    </tr>\n",
       "  </tbody>\n",
       "</table>\n",
       "</div>"
      ],
      "text/plain": [
       "        accountid   account_type client_id balanceDateAsOf  clearedbalance\n",
       "0  60827853210004  Tonik Account   2785321      2024-08-23          5000.0\n",
       "1  60827151740014    Group Stash   2715174      2024-08-03          1355.0\n",
       "2  60827107270007  Tonik Account   2710727      2024-08-03          2000.0\n",
       "3  60827089850001  Tonik Account   2708985      2024-08-03          4000.0\n",
       "4  60827188080009  Tonik Account   2718808      2024-08-03          3500.0"
      ]
     },
     "execution_count": 30,
     "metadata": {},
     "output_type": "execute_result"
    }
   ],
   "source": [
    "dfd1.head()"
   ]
  },
  {
   "cell_type": "code",
   "execution_count": 23,
   "metadata": {},
   "outputs": [
    {
     "data": {
      "text/plain": [
       "33215"
      ]
     },
     "execution_count": 23,
     "metadata": {},
     "output_type": "execute_result"
    }
   ],
   "source": [
    "dfd1['client_id'].nunique()"
   ]
  },
  {
   "cell_type": "code",
   "execution_count": 28,
   "metadata": {},
   "outputs": [
    {
     "data": {
      "text/plain": [
       "32927"
      ]
     },
     "execution_count": 28,
     "metadata": {},
     "output_type": "execute_result"
    }
   ],
   "source": [
    "dfd['client_id'].nunique()"
   ]
  },
  {
   "cell_type": "code",
   "execution_count": 37,
   "metadata": {},
   "outputs": [
    {
     "name": "stdout",
     "output_type": "stream",
     "text": [
      "Job ID 40fcccf9-7ea4-4e10-a691-8fc085047e52 successfully executed: 100%|\u001b[32m██████████\u001b[0m|\n",
      "Downloading: 100%|\u001b[32m██████████\u001b[0m|\n"
     ]
    }
   ],
   "source": [
    "sq = \"\"\"SELECT \n",
    "            DATE_TRUNC(transaction_date, WEEK(MONDAY)) AS week_start_date, customer_id,  COUNT(*) cnt\n",
    "            from\n",
    "            `prj-prod-dataplatform.risk_mart.customer_transactions`        WHERE\n",
    "            transaction_date BETWEEN DATE_SUB(date(\"2024-09-02\"), INTERVAL 3 MONTH) AND date(\"2024-09-02\")\n",
    "            GROUP BY\n",
    "            customer_id, DATE_TRUNC(transaction_date, WEEK(MONDAY))\n",
    "        HAVING \n",
    "            COUNT(*) >= 5\n",
    "            ;\n",
    "\"\"\"\n",
    "\n",
    "dfd = client.query(sq).to_dataframe(progress_bar_type='tqdm')"
   ]
  },
  {
   "cell_type": "code",
   "execution_count": 38,
   "metadata": {},
   "outputs": [
    {
     "data": {
      "text/plain": [
       "(128855, 3)"
      ]
     },
     "execution_count": 38,
     "metadata": {},
     "output_type": "execute_result"
    }
   ],
   "source": [
    "dfd.shape"
   ]
  },
  {
   "cell_type": "code",
   "execution_count": 39,
   "metadata": {},
   "outputs": [
    {
     "name": "stdout",
     "output_type": "stream",
     "text": [
      "Job ID a0cf58df-6ac8-4424-9ec6-ce898deb0126 successfully executed: 100%|\u001b[32m██████████\u001b[0m|\n",
      "Downloading: 100%|\u001b[32m██████████\u001b[0m|\n"
     ]
    }
   ],
   "source": [
    "sq = \"\"\"SELECT \n",
    "            DATE_TRUNC(transaction_date, WEEK(MONDAY)) AS week_start_date,customer_id,  COUNT(*) cnt\n",
    "            from\n",
    "            `prj-prod-dataplatform.risk_mart.customer_transactions`        WHERE\n",
    "            transaction_date BETWEEN DATE_SUB(date(\"2024-08-26\"), INTERVAL 3 MONTH) AND date(\"2024-08-26\")\n",
    "            GROUP BY\n",
    "            customer_id, DATE_TRUNC(transaction_date, WEEK(MONDAY)) \n",
    "        HAVING \n",
    "            COUNT(*) >= 5\n",
    "            ;\n",
    "\"\"\"\n",
    "dfd1 = client.query(sq).to_dataframe(progress_bar_type='tqdm')"
   ]
  },
  {
   "cell_type": "code",
   "execution_count": 36,
   "metadata": {},
   "outputs": [
    {
     "data": {
      "text/plain": [
       "(56615, 2)"
      ]
     },
     "execution_count": 36,
     "metadata": {},
     "output_type": "execute_result"
    }
   ],
   "source": [
    "dfd1.shape"
   ]
  },
  {
   "cell_type": "code",
   "execution_count": 41,
   "metadata": {},
   "outputs": [
    {
     "data": {
      "text/plain": [
       "week_start_date\n",
       "2024-05-27     1120\n",
       "2024-06-03     7238\n",
       "2024-06-10     7807\n",
       "2024-06-17     7108\n",
       "2024-06-24     8335\n",
       "2024-07-01     8370\n",
       "2024-07-08     8118\n",
       "2024-07-15     7931\n",
       "2024-07-22     6959\n",
       "2024-07-29     8983\n",
       "2024-08-05     7202\n",
       "2024-08-12     8498\n",
       "2024-08-19     9541\n",
       "2024-08-26    29704\n",
       "2024-09-02     1941\n",
       "Name: customer_id, dtype: int64"
      ]
     },
     "execution_count": 41,
     "metadata": {},
     "output_type": "execute_result"
    }
   ],
   "source": [
    "dfd.groupby('week_start_date')['customer_id'].nunique()"
   ]
  },
  {
   "cell_type": "code",
   "execution_count": 42,
   "metadata": {},
   "outputs": [
    {
     "data": {
      "text/plain": [
       "week_start_date\n",
       "2024-05-20     777\n",
       "2024-05-27    7995\n",
       "2024-06-03    7238\n",
       "2024-06-10    7807\n",
       "2024-06-17    7108\n",
       "2024-06-24    8335\n",
       "2024-07-01    8370\n",
       "2024-07-08    8118\n",
       "2024-07-15    7931\n",
       "2024-07-22    6959\n",
       "2024-07-29    8983\n",
       "2024-08-05    7202\n",
       "2024-08-12    8498\n",
       "2024-08-19    9541\n",
       "2024-08-26    1500\n",
       "Name: customer_id, dtype: int64"
      ]
     },
     "execution_count": 42,
     "metadata": {},
     "output_type": "execute_result"
    }
   ],
   "source": [
    "dfd1.groupby('week_start_date')['customer_id'].nunique()"
   ]
  },
  {
   "cell_type": "code",
   "execution_count": null,
   "metadata": {},
   "outputs": [],
   "source": []
  }
 ],
 "metadata": {
  "kernelspec": {
   "display_name": "Python 3",
   "language": "python",
   "name": "python3"
  },
  "language_info": {
   "codemirror_mode": {
    "name": "ipython",
    "version": 3
   },
   "file_extension": ".py",
   "mimetype": "text/x-python",
   "name": "python",
   "nbconvert_exporter": "python",
   "pygments_lexer": "ipython3",
   "version": "3.9.19"
  }
 },
 "nbformat": 4,
 "nbformat_minor": 2
}
